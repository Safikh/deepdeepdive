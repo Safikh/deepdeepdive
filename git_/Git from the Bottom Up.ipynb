{
 "cells": [
  {
   "cell_type": "markdown",
   "id": "dab8249f",
   "metadata": {},
   "source": [
    "# Git from the Bottom Up\n",
    "\n",
    "[Source](https://jwiegley.github.io/git-from-the-bottom-up/)"
   ]
  },
  {
   "cell_type": "markdown",
   "id": "fb04bcce",
   "metadata": {},
   "source": [
    "## Introduction\n",
    "\n",
    "* **repository** — A repository is a collection of commits, each of which is an archive of what the project’s working tree looked like at a past date. It also defines HEAD (see below), which identifies the branch or commit the current working tree stemmed from. Lastly, it contains a set of branches and tags, to identify certain commits by name.\n",
    "* **the index** — Changes are first registered in something called the index. Some find it helpful to call it instead as the “staging area”, instead of the index.\n",
    "* **working tree** — A working tree is any directory on your filesystem which has a repository associated with it.\n",
    "* **commit** — A commit is a snapshot of your working tree at some point in time. \n",
    "* **branch** — A branch is just a name for a commit, also called a reference. It’s the parentage of a commit which defines its history, and thus the typical notion of a “branch of development”.\n",
    "* **tag** — A tag is also a name for a commit, similar to a branch, except that it always names the same commit, and can have its own description text.\n",
    "* **master** — The mainline of development in most repositories is done on a branch called “**master**”. Although this is a typical default, it is in no way special. Over recent years **master** is being replaced with **main**.\n",
    "* **HEAD** — HEAD is used by your repository to define what is currently checked out:\n",
    "    * If you checkout a branch, HEAD symbolically refers to that branch, indicating that the branch name should be updated after the next commit operation.\n",
    "    * If you checkout a specific commit, HEAD refers to that commit only. This is referred to as a detached HEAD, and occurs, for example, if you check out a tag name."
   ]
  },
  {
   "cell_type": "markdown",
   "id": "7949f70b",
   "metadata": {},
   "source": [
    "![](https://jwiegley.github.io/git-from-the-bottom-up/images/lifecycle.png)"
   ]
  },
  {
   "cell_type": "markdown",
   "id": "d8540cdd",
   "metadata": {},
   "source": [
    "## Repository: Directory content tracking\n",
    "\n",
    "What Git does is quite rudimentary: it maintains snapshots of a directory’s contents.\n",
    "\n",
    "The design of a Git repository in many ways mirrors the structure of a UNIX filesystem: A filesystem begins with a root directory, which typically consists of other directories, most of which have leaf nodes, or files, that contain data. Meta-data about these files’ contents is stored both in the directory (the names), and in the i-nodes that reference the contents of those files (their size, type, permissions, etc). Each i-node has a unique number that identifies the contents of its related file. And while you may have many directory entries pointing to a particular i-node (i.e., hard-links), it’s the i-node which “owns” the contents stored on your filesystem.\n",
    "\n",
    "Internally, Git shares a strikingly similar structure, albeit with one or two key differences. First, it represents your file’s contents in *blobs*, which are also leaf nodes in something awfully close to a directory, called a *tree*. Just as an i-node is uniquely identified by a system-assigned number, a blob is named by computing the SHA1 hash id of its size and contents.\n",
    "\n",
    "For all intents and purposes SHA1 is just an arbitrary number, like an i-node, except that it has two additional properties: first, it verifies the blob’s contents will never change; and second, the same contents shall always be represented by the same blob, no matter where it appears: across commits, across repositories — even across the whole Internet. If multiple trees reference the same blob, this is just like hard-linking: the blob will not disappear from your repository as long as there is at least one link remaining to it.\n",
    "\n",
    "The difference between a Git blob and a filesystem’s file is that a blob stores no metadata about its content. All such information is kept in the tree that holds the blob. In a normal filesystem, two files with the same contents but with such different metadata would always be represented as two independent files. Why this difference? Mainly, it’s because a filesystem is designed to support files that change, whereas Git is not. The fact that data is immutable in the Git repository is what makes all of this work and so a different design was needed. And as it turns out, this design allows for much more compact storage, since all objects having identical content can be shared, no matter where they are."
   ]
  },
  {
   "cell_type": "markdown",
   "id": "046a3c6c",
   "metadata": {},
   "source": []
  }
 ],
 "metadata": {
  "kernelspec": {
   "display_name": "Python 3 (ipykernel)",
   "language": "python",
   "name": "python3"
  },
  "language_info": {
   "codemirror_mode": {
    "name": "ipython",
    "version": 3
   },
   "file_extension": ".py",
   "mimetype": "text/x-python",
   "name": "python",
   "nbconvert_exporter": "python",
   "pygments_lexer": "ipython3",
   "version": "3.9.12"
  }
 },
 "nbformat": 4,
 "nbformat_minor": 5
}
