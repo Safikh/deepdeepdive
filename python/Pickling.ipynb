{
 "cells": [
  {
   "cell_type": "markdown",
   "id": "00a25ac6",
   "metadata": {},
   "source": [
    "# Intro to Pickle Library\n",
    "The pickle module implements binary protocols for serializing and de-serializing a Python object structure. “Pickling” is the process whereby a Python object hierarchy is converted into a byte stream, and “unpickling” is the inverse operation, whereby a byte stream (from a binary file or bytes-like object) is converted back into an object hierarchy."
   ]
  },
  {
   "cell_type": "code",
   "execution_count": 1,
   "id": "d761a359",
   "metadata": {},
   "outputs": [
    {
     "name": "stdout",
     "output_type": "stream",
     "text": [
      "Writing createpickle1.py\n"
     ]
    }
   ],
   "source": [
    "%%writefile createpickle1.py\n",
    "import pickle\n",
    "\n",
    "obj = {\"a\": 1, \"b\": {\"c\": 2, \"d\": 3}}\n",
    "with open(\"sampleobj.pkl\", \"wb\") as f:\n",
    "    pickle.dump(obj, f)"
   ]
  },
  {
   "cell_type": "code",
   "execution_count": 2,
   "id": "8737c937",
   "metadata": {},
   "outputs": [
    {
     "name": "stdout",
     "output_type": "stream",
     "text": [
      "Writing readpickle1.py\n"
     ]
    }
   ],
   "source": [
    "%%writefile readpickle1.py\n",
    "import pickle\n",
    "\n",
    "with open(\"sampleobj.pkl\", \"rb\") as f:\n",
    "    obj = pickle.load(f)\n",
    "print(obj)"
   ]
  },
  {
   "cell_type": "code",
   "execution_count": 3,
   "id": "d2560b2e",
   "metadata": {},
   "outputs": [],
   "source": [
    "!python createpickle1.py"
   ]
  },
  {
   "cell_type": "code",
   "execution_count": 4,
   "id": "c750e519",
   "metadata": {},
   "outputs": [
    {
     "name": "stdout",
     "output_type": "stream",
     "text": [
      "{'a': 1, 'b': {'c': 2, 'd': 3}}\r\n"
     ]
    }
   ],
   "source": [
    "!python readpickle1.py"
   ]
  },
  {
   "cell_type": "markdown",
   "id": "12a620cb",
   "metadata": {},
   "source": [
    "## `__setstate__` and  `__getstate__`"
   ]
  },
  {
   "cell_type": "markdown",
   "id": "812d5bb8",
   "metadata": {},
   "source": [
    "Classes can further influence how their instances are pickled; if the class defines the method `__getstate__()`, it is called and the returned object is pickled as the contents for the instance, instead of the contents of the instance’s dictionary. If the `__getstate__()` method is absent, the instance’s `__dict__` is pickled as usual.\n",
    "\n",
    "Upon unpickling, if the class defines `__setstate__()`, it is called with the unpickled state. In that case, there is no requirement for the state object to be a dictionary. Otherwise, the pickled state must be a dictionary and its items are assigned to the new instance’s dictionary."
   ]
  },
  {
   "cell_type": "code",
   "execution_count": 5,
   "id": "0949e7c0",
   "metadata": {},
   "outputs": [
    {
     "name": "stdout",
     "output_type": "stream",
     "text": [
      "Writing createpickle2.py\n"
     ]
    }
   ],
   "source": [
    "%%writefile createpickle2.py\n",
    "import pickle\n",
    "\n",
    "class TestState:\n",
    "    def __init__(self, val):\n",
    "        self.val = val\n",
    "    \n",
    "    def __getstate__(self):\n",
    "        print(f\"Inside __getstate__\")\n",
    "        self.val *= 2\n",
    "        return self.__dict__\n",
    "    \n",
    "    def __setstate__(self, state):\n",
    "        print(f\"Inside __setstate__. Unpickled with dict: {repr(state)}\")\n",
    "        self.__dict__ = state\n",
    "        self.val *= 2\n",
    "        \n",
    "obj1 = TestState(2)\n",
    "print(f\"Before pickling value :{obj1.val}\")\n",
    "pickleobj = pickle.dumps(obj1)\n",
    "obj2 = pickle.loads(pickleobj)\n",
    "print(f\"After unpickling value: {obj2.val}\")"
   ]
  },
  {
   "cell_type": "code",
   "execution_count": 6,
   "id": "9229f75a",
   "metadata": {},
   "outputs": [
    {
     "name": "stdout",
     "output_type": "stream",
     "text": [
      "Before pickling value :2\r\n",
      "Inside __getstate__\r\n",
      "Inside __setstate__. Unpickled with dict: {'val': 4}\r\n",
      "After unpickling value: 8\r\n"
     ]
    }
   ],
   "source": [
    "!python createpickle2.py"
   ]
  },
  {
   "cell_type": "markdown",
   "id": "27c15144",
   "metadata": {},
   "source": [
    "pickle does not use directly the methods described above. In fact, these methods are part of the copy protocol which implements the `__reduce__()` special method. The copy protocol provides a unified interface for retrieving the data necessary for pickling and copying objects.\n",
    "\n",
    "Although powerful, implementing `__reduce__()` directly in your classes is error prone. For this reason, class designers should use the high-level interface (i.e., `__getnewargs_ex__()`, `__getstate__()` and `__setstate__()`) whenever possible."
   ]
  },
  {
   "cell_type": "markdown",
   "id": "d9eb1006",
   "metadata": {},
   "source": [
    "## Edgecase 1"
   ]
  },
  {
   "cell_type": "code",
   "execution_count": 7,
   "id": "833db3e4",
   "metadata": {},
   "outputs": [
    {
     "name": "stdout",
     "output_type": "stream",
     "text": [
      "Writing createpickle3.py\n"
     ]
    }
   ],
   "source": [
    "%%writefile createpickle3.py\n",
    "import pickle\n",
    "\n",
    "class PickleFail:\n",
    "    def __init__(self, attr):\n",
    "        self.attr = attr\n",
    "    \n",
    "    def __getstate__(self):\n",
    "        return self.attr\n",
    "    \n",
    "    def __setstate__(self, state):\n",
    "        self.attr = state\n",
    "        print(f\"In set state, attr={self.attr}\")\n",
    "\n",
    "pf = PickleFail(\"a\")\n",
    "\n",
    "with open(\"file.pkl\", \"wb\") as f:\n",
    "    pickle.dump(pf, f)\n",
    "\n",
    "print(\"Loading where PickleFail is already defined in the namespace\")\n",
    "\n",
    "with open(\"file.pkl\", \"rb\") as f:\n",
    "    obj = pickle.load(f)"
   ]
  },
  {
   "cell_type": "code",
   "execution_count": 8,
   "id": "cde9c6cd",
   "metadata": {},
   "outputs": [
    {
     "name": "stdout",
     "output_type": "stream",
     "text": [
      "Loading where PickleFail is already defined in the namespace\r\n",
      "In set state, attr=a\r\n"
     ]
    }
   ],
   "source": [
    "!python createpickle3.py"
   ]
  },
  {
   "cell_type": "code",
   "execution_count": 9,
   "id": "520c80fb",
   "metadata": {},
   "outputs": [
    {
     "name": "stdout",
     "output_type": "stream",
     "text": [
      "Writing readpickle3.py\n"
     ]
    }
   ],
   "source": [
    "%%writefile readpickle3.py\n",
    "import pickle\n",
    "\n",
    "print(\"Loading where PickleFail is not in the namespace yet\")\n",
    "with open(\"file.pkl\", \"rb\") as f:\n",
    "    obj = pickle.load(f)"
   ]
  },
  {
   "cell_type": "code",
   "execution_count": 10,
   "id": "d599f808",
   "metadata": {},
   "outputs": [
    {
     "name": "stdout",
     "output_type": "stream",
     "text": [
      "Loading where PickleFail is not in the namespace yet\r\n",
      "Traceback (most recent call last):\r\n",
      "  File \"/home/safiuddin/deep_deep_dive/python/readpickle3.py\", line 5, in <module>\r\n",
      "    obj = pickle.load(f)\r\n",
      "AttributeError: Can't get attribute 'PickleFail' on <module '__main__' from '/home/safiuddin/deep_deep_dive/python/readpickle3.py'>\r\n"
     ]
    }
   ],
   "source": [
    "!python readpickle3.py"
   ]
  },
  {
   "cell_type": "markdown",
   "id": "deea993b",
   "metadata": {},
   "source": [
    "This happens because we're trying to access the class before it is loaded into the namespace."
   ]
  },
  {
   "cell_type": "markdown",
   "id": "627329df",
   "metadata": {},
   "source": [
    "## Don't load any pickle you find on the street"
   ]
  },
  {
   "cell_type": "code",
   "execution_count": 11,
   "id": "150f77bc",
   "metadata": {},
   "outputs": [
    {
     "name": "stdout",
     "output_type": "stream",
     "text": [
      "Writing createpickle4.py\n"
     ]
    }
   ],
   "source": [
    "%%writefile createpickle4.py\n",
    "import pickle\n",
    "\n",
    "class Trojan:\n",
    "    def __init__(self, a=10):\n",
    "        self.a = a\n",
    "    def __setstate__(self, state):\n",
    "        print(\"Running malicious code here\")\n",
    "\n",
    "trojan = Trojan()\n",
    "\n",
    "with open(\"trojan.pkl\", \"wb\") as f:\n",
    "    pickle.dump(trojan, f)"
   ]
  },
  {
   "cell_type": "code",
   "execution_count": 12,
   "id": "447e598b",
   "metadata": {},
   "outputs": [],
   "source": [
    "!python createpickle4.py"
   ]
  },
  {
   "cell_type": "code",
   "execution_count": 13,
   "id": "85c01bf0",
   "metadata": {},
   "outputs": [
    {
     "name": "stdout",
     "output_type": "stream",
     "text": [
      "Writing readpickle4.py\n"
     ]
    }
   ],
   "source": [
    "%%writefile readpickle4.py\n",
    "import pickle\n",
    "from createpickle4 import Trojan\n",
    "with open(\"trojan.pkl\", \"rb\") as f:\n",
    "    pickle.load(f)"
   ]
  },
  {
   "cell_type": "code",
   "execution_count": 14,
   "id": "48f71bae",
   "metadata": {},
   "outputs": [
    {
     "name": "stdout",
     "output_type": "stream",
     "text": [
      "Running malicious code here\r\n"
     ]
    }
   ],
   "source": [
    "!python readpickle4.py"
   ]
  },
  {
   "cell_type": "markdown",
   "id": "0c482ca4",
   "metadata": {},
   "source": [
    "## Protocols\n",
    "\n",
    "#### From official docs:\n",
    "\n",
    "There are currently 6 different protocols which can be used for pickling. The higher the protocol used, the more recent the version of Python needed to read the pickle produced.\n",
    "\n",
    "- Protocol version 0 is the original “human-readable” protocol and is backwards compatible with earlier versions of Python.\n",
    "\n",
    "- Protocol version 1 is an old binary format which is also compatible with earlier versions of Python.\n",
    "\n",
    "- Protocol version 2 was introduced in Python 2.3. It provides much more efficient pickling of new-style classes. Refer to PEP 307 for information about improvements brought by protocol 2.\n",
    "\n",
    "- Protocol version 3 was added in Python 3.0. It has explicit support for bytes objects and cannot be unpickled by Python 2.x. This was the default protocol in Python 3.0–3.7.\n",
    "\n",
    "- Protocol version 4 was added in Python 3.4. It adds support for very large objects, pickling more kinds of objects, and some data format optimizations. It is the default protocol starting with Python 3.8. Refer to PEP 3154 for information about improvements brought by protocol 4.\n",
    "\n",
    "- Protocol version 5 was added in Python 3.8. It adds support for out-of-band data and speedup for in-band data. Refer to PEP 574 for information about improvements brought by protocol 5"
   ]
  },
  {
   "cell_type": "code",
   "execution_count": 15,
   "id": "5e49eb4f",
   "metadata": {},
   "outputs": [
    {
     "name": "stdout",
     "output_type": "stream",
     "text": [
      "Overwriting createpickle5.py\n"
     ]
    }
   ],
   "source": [
    "%%writefile createpickle5.py\n",
    "import pickle\n",
    "\n",
    "class Sample:\n",
    "    def __init__(self, attr=10):\n",
    "        self.attr = attr\n",
    "    def __getstate__(self):\n",
    "        return self.attr\n",
    "    def __setstate__(self, state):\n",
    "        self.attr = state\n",
    "        print(f\"Unpickled! attr={self.attr}\")\n",
    "\n",
    "sample = Sample(attr=\"sample\")\n",
    "if __name__ == \"__main__\":\n",
    "    for protocol in range(6):\n",
    "        print(pickle.dumps(sample, protocol=protocol))\n",
    "pickleobject = pickle.dumps(sample, protocol=0)"
   ]
  },
  {
   "cell_type": "code",
   "execution_count": 16,
   "id": "a00edec1",
   "metadata": {},
   "outputs": [
    {
     "name": "stdout",
     "output_type": "stream",
     "text": [
      "b'ccopy_reg\\n_reconstructor\\np0\\n(c__main__\\nSample\\np1\\nc__builtin__\\nobject\\np2\\nNtp3\\nRp4\\nVsample\\np5\\nb.'\r\n",
      "b'ccopy_reg\\n_reconstructor\\nq\\x00(c__main__\\nSample\\nq\\x01c__builtin__\\nobject\\nq\\x02Ntq\\x03Rq\\x04X\\x06\\x00\\x00\\x00sampleq\\x05b.'\r\n",
      "b'\\x80\\x02c__main__\\nSample\\nq\\x00)\\x81q\\x01X\\x06\\x00\\x00\\x00sampleq\\x02b.'\r\n",
      "b'\\x80\\x03c__main__\\nSample\\nq\\x00)\\x81q\\x01X\\x06\\x00\\x00\\x00sampleq\\x02b.'\r\n",
      "b'\\x80\\x04\\x95$\\x00\\x00\\x00\\x00\\x00\\x00\\x00\\x8c\\x08__main__\\x94\\x8c\\x06Sample\\x94\\x93\\x94)\\x81\\x94\\x8c\\x06sample\\x94b.'\r\n",
      "b'\\x80\\x05\\x95$\\x00\\x00\\x00\\x00\\x00\\x00\\x00\\x8c\\x08__main__\\x94\\x8c\\x06Sample\\x94\\x93\\x94)\\x81\\x94\\x8c\\x06sample\\x94b.'\r\n"
     ]
    }
   ],
   "source": [
    "!python createpickle5.py"
   ]
  },
  {
   "cell_type": "markdown",
   "id": "0830af29",
   "metadata": {},
   "source": [
    "## Pickletools"
   ]
  },
  {
   "cell_type": "markdown",
   "id": "97262457",
   "metadata": {},
   "source": [
    "#### `pickletools.dis()`\n",
    "Outputs a symbolic disassembly of the pickle"
   ]
  },
  {
   "cell_type": "code",
   "execution_count": 17,
   "id": "feb2e9dc",
   "metadata": {},
   "outputs": [
    {
     "name": "stdout",
     "output_type": "stream",
     "text": [
      "Overwriting createpickle6.py\n"
     ]
    }
   ],
   "source": [
    "%%writefile createpickle6.py\n",
    "from createpickle5 import pickleobject\n",
    "import pickle\n",
    "import pickletools\n",
    "pickletools.dis(pickleobject)"
   ]
  },
  {
   "cell_type": "code",
   "execution_count": 18,
   "id": "2e9c3150",
   "metadata": {},
   "outputs": [
    {
     "name": "stdout",
     "output_type": "stream",
     "text": [
      "    0: c    GLOBAL     'copy_reg _reconstructor'\r\n",
      "   25: p    PUT        0\r\n",
      "   28: (    MARK\r\n",
      "   29: c        GLOBAL     'createpickle5 Sample'\r\n",
      "   51: p        PUT        1\r\n",
      "   54: c        GLOBAL     '__builtin__ object'\r\n",
      "   74: p        PUT        2\r\n",
      "   77: N        NONE\r\n",
      "   78: t        TUPLE      (MARK at 28)\r\n",
      "   79: p    PUT        3\r\n",
      "   82: R    REDUCE\r\n",
      "   83: p    PUT        4\r\n",
      "   86: V    UNICODE    'sample'\r\n",
      "   94: p    PUT        5\r\n",
      "   97: b    BUILD\r\n",
      "   98: .    STOP\r\n",
      "highest protocol among opcodes = 0\r\n"
     ]
    }
   ],
   "source": [
    "!python createpickle6.py"
   ]
  },
  {
   "cell_type": "markdown",
   "id": "97f8fbc1",
   "metadata": {},
   "source": [
    "#### `pickletools.optimize()`\n",
    "Returns a new equivalent pickle string after eliminating unused PUT opcodes. The optimized pickle is shorter, takes less transmission time, requires less storage space, and unpickles more efficiently."
   ]
  },
  {
   "cell_type": "code",
   "execution_count": 19,
   "id": "580a8d46",
   "metadata": {},
   "outputs": [
    {
     "name": "stdout",
     "output_type": "stream",
     "text": [
      "Overwriting createpickle7.py\n"
     ]
    }
   ],
   "source": [
    "%%writefile createpickle7.py\n",
    "from createpickle5 import pickleobject\n",
    "import pickle\n",
    "import pickletools\n",
    "\n",
    "op_pickle = pickletools.optimize(pickleobject)\n",
    "\n",
    "if __name__ == \"__main__\":\n",
    "    print(\"Before optimization\")\n",
    "    pickletools.dis(pickleobject)\n",
    "    print(\"After optimization\")\n",
    "    pickletools.dis(op_pickle)"
   ]
  },
  {
   "cell_type": "code",
   "execution_count": 20,
   "id": "38020454",
   "metadata": {},
   "outputs": [
    {
     "name": "stdout",
     "output_type": "stream",
     "text": [
      "Before optimization\r\n",
      "    0: c    GLOBAL     'copy_reg _reconstructor'\r\n",
      "   25: p    PUT        0\r\n",
      "   28: (    MARK\r\n",
      "   29: c        GLOBAL     'createpickle5 Sample'\r\n",
      "   51: p        PUT        1\r\n",
      "   54: c        GLOBAL     '__builtin__ object'\r\n",
      "   74: p        PUT        2\r\n",
      "   77: N        NONE\r\n",
      "   78: t        TUPLE      (MARK at 28)\r\n",
      "   79: p    PUT        3\r\n",
      "   82: R    REDUCE\r\n",
      "   83: p    PUT        4\r\n",
      "   86: V    UNICODE    'sample'\r\n",
      "   94: p    PUT        5\r\n",
      "   97: b    BUILD\r\n",
      "   98: .    STOP\r\n",
      "highest protocol among opcodes = 0\r\n",
      "After optimization\r\n",
      "    0: c    GLOBAL     'copy_reg _reconstructor'\r\n",
      "   25: (    MARK\r\n",
      "   26: c        GLOBAL     'createpickle5 Sample'\r\n",
      "   48: c        GLOBAL     '__builtin__ object'\r\n",
      "   68: N        NONE\r\n",
      "   69: t        TUPLE      (MARK at 25)\r\n",
      "   70: R    REDUCE\r\n",
      "   71: V    UNICODE    'sample'\r\n",
      "   79: b    BUILD\r\n",
      "   80: .    STOP\r\n",
      "highest protocol among opcodes = 0\r\n"
     ]
    }
   ],
   "source": [
    "!python createpickle7.py"
   ]
  },
  {
   "cell_type": "markdown",
   "id": "254ff5a7",
   "metadata": {},
   "source": [
    "## Unpickling"
   ]
  },
  {
   "cell_type": "markdown",
   "id": "1ca8c0be",
   "metadata": {},
   "source": [
    "During unpickling, these opcodes are normally interpreted by something called the Pickle Machine (PM).\n",
    "\n",
    "The PM reads in a pickle program and performs each instruction in sequence. It terminates whenever it reaches a STOP opcode; whatever object is on top of the stack at that point is the final result of unpickling.\n",
    "\n",
    "1. GLOBAL pushes either a class or a function on the stack given it’s module and name as arguments. Note that the disassembler message here is slightly misleading because copy_reg was renamed copyreg in Python 3.\n",
    "2. MARK pushes a special markobject onto the stack so that we can later use it to specify a slice of the stack. \n",
    "3. NONE just pushes None to the stack.\n",
    "4. TUPLE is going to remove everything in the stack since that “MARK” and place it in a tuple. It will then remove the “MARK”, and replace it with the tuple.\n",
    "5. REDUCE removes the last two things from the stack. It then calls the object that was second to last using positional expansion of the thing that was last and places the result onto the stack.\n",
    "6. UNICODE just pushes a unicode string onto the stack\n",
    "7. BUILD pops the last thing off of the stack and then passes it as an argument to __setstate__() on the newly last thing on the stack.\n",
    "8. STOP just means that whatever is on top of the stack is our final result."
   ]
  },
  {
   "cell_type": "code",
   "execution_count": 21,
   "id": "6a3f9fd7",
   "metadata": {},
   "outputs": [
    {
     "name": "stdout",
     "output_type": "stream",
     "text": [
      "Overwriting unpickle8.py\n"
     ]
    }
   ],
   "source": [
    "%%writefile unpickle8.py\n",
    "\n",
    "# PM's longterm memory storage\n",
    "memo = {}\n",
    "# PM's stack, which most opcodes interact with\n",
    "stack = []\n",
    "\n",
    "# Push a global object (module.attr) on the stack.\n",
    "#  0: c    GLOBAL     'copy_reg _reconstructor'\n",
    "from copyreg import _reconstructor\n",
    "stack.append(_reconstructor)\n",
    "\n",
    "# Push markobject onto the stack.\n",
    "# 25: (    MARK\n",
    "stack.append('MARK')\n",
    "\n",
    "# Push a global object (module.attr) on the stack.\n",
    "# 26: c        GLOBAL     'createpickle5 Sample'\n",
    "from createpickle5 import Sample\n",
    "stack.append(Sample)\n",
    "\n",
    "# Push a global object (module.attr) on the stack.\n",
    "# 48: c        GLOBAL     '__builtin__ object'\n",
    "stack.append(object)\n",
    "\n",
    "# Push None on the stack.\n",
    "# 68: N        NONE\n",
    "stack.append(None)\n",
    "\n",
    "print(f\"the stack before the TUPLE operation: {stack}\")\n",
    "\n",
    "# Build a tuple out of the topmost stack slice, after markobject.\n",
    "# 69: t        TUPLE      (MARK at 25)\n",
    "last_mark_index = len(stack) - 1 - stack[::-1].index('MARK')\n",
    "mark_tuple = tuple(stack[last_mark_index + 1:])\n",
    "stack = stack[:last_mark_index] + [mark_tuple]\n",
    "\n",
    "print(f\"the stack after the TUPLE operation: {stack}\")\n",
    "\n",
    "# Push an object built from a callable and an argument tuple.\n",
    "# 70: R    REDUCE\n",
    "args = stack.pop()\n",
    "callable_ = stack.pop()\n",
    "stack.append(callable_(*args))\n",
    "\n",
    "# Push a Python Unicode string object.\n",
    "# 71: V    UNICODE    'sample'\n",
    "stack.append(u'sample')\n",
    "\n",
    "# Finish building an object, via __setstate__ or dict update.\n",
    "# 79: b    BUILD\n",
    "arg = stack.pop()\n",
    "stack[-1].__setstate__(arg)\n",
    "\n",
    "# Stop the unpickling machine.\n",
    "# 80: .    STOP\n",
    "unpickled_obj = stack[-1]\n",
    "print(\"Unpickling completed\")\n",
    "\n",
    "if __name__ == \"__main__\":\n",
    "    print(unpickled_obj)\n",
    "    print(vars(unpickled_obj))"
   ]
  },
  {
   "cell_type": "code",
   "execution_count": 22,
   "id": "04e10d77",
   "metadata": {},
   "outputs": [
    {
     "name": "stdout",
     "output_type": "stream",
     "text": [
      "the stack before the TUPLE operation: [<function _reconstructor at 0x7fbefaf58430>, 'MARK', <class 'createpickle5.Sample'>, <class 'object'>, None]\r\n",
      "the stack after the TUPLE operation: [<function _reconstructor at 0x7fbefaf58430>, (<class 'createpickle5.Sample'>, <class 'object'>, None)]\r\n",
      "Unpickled! attr=sample\r\n",
      "Unpickling completed\r\n",
      "<createpickle5.Sample object at 0x7fbefaf5bfd0>\r\n",
      "{'attr': 'sample'}\r\n"
     ]
    }
   ],
   "source": [
    "!python unpickle8.py"
   ]
  },
  {
   "cell_type": "markdown",
   "id": "f1438c8d",
   "metadata": {},
   "source": [
    "We can further simplify our unpickling code."
   ]
  },
  {
   "cell_type": "code",
   "execution_count": 23,
   "id": "4452df15",
   "metadata": {},
   "outputs": [
    {
     "name": "stdout",
     "output_type": "stream",
     "text": [
      "Overwriting unpickle9.py\n"
     ]
    }
   ],
   "source": [
    "%%writefile unpickle9.py\n",
    "\n",
    "from createpickle5 import Sample\n",
    "from copyreg import _reconstructor\n",
    "\n",
    "unpickled_obj = _reconstructor(cls=Sample, base=object, state=None)\n",
    "unpickled_obj.__setstate__(\"sample\")\n",
    "\n",
    "if __name__ == \"__main__\":\n",
    "    print(unpickled_obj)\n",
    "    print(vars(unpickled_obj))"
   ]
  },
  {
   "cell_type": "code",
   "execution_count": 24,
   "id": "39c7b765",
   "metadata": {},
   "outputs": [
    {
     "name": "stdout",
     "output_type": "stream",
     "text": [
      "Unpickled! attr=sample\r\n",
      "<createpickle5.Sample object at 0x7f9ffac26e20>\r\n",
      "{'attr': 'sample'}\r\n"
     ]
    }
   ],
   "source": [
    "!python unpickle9.py"
   ]
  },
  {
   "cell_type": "markdown",
   "id": "7add2b3c",
   "metadata": {},
   "source": [
    "Simplifying further..."
   ]
  },
  {
   "cell_type": "code",
   "execution_count": 25,
   "id": "edead19a",
   "metadata": {},
   "outputs": [
    {
     "name": "stdout",
     "output_type": "stream",
     "text": [
      "Overwriting unpickle10.py\n"
     ]
    }
   ],
   "source": [
    "%%writefile unpickle10.py\n",
    "\n",
    "from createpickle5 import Sample\n",
    "\n",
    "unpickled_obj = object.__new__(Sample)\n",
    "unpickled_obj.__setstate__(\"sample\")\n",
    "\n",
    "if __name__ == \"__main__\":\n",
    "    print(unpickled_obj)\n",
    "    print(vars(unpickled_obj))"
   ]
  },
  {
   "cell_type": "code",
   "execution_count": 26,
   "id": "95b4237f",
   "metadata": {},
   "outputs": [
    {
     "name": "stdout",
     "output_type": "stream",
     "text": [
      "Unpickled! attr=sample\r\n",
      "<createpickle5.Sample object at 0x7fd380b89a90>\r\n",
      "{'attr': 'sample'}\r\n"
     ]
    }
   ],
   "source": [
    "!python unpickle10.py"
   ]
  },
  {
   "cell_type": "markdown",
   "id": "694918c5",
   "metadata": {},
   "source": [
    "## Manual pickling"
   ]
  },
  {
   "cell_type": "code",
   "execution_count": 27,
   "id": "813a59c3",
   "metadata": {},
   "outputs": [
    {
     "name": "stdout",
     "output_type": "stream",
     "text": [
      "Overwriting pickleobj.pkl\n"
     ]
    }
   ],
   "source": [
    "%%writefile pickleobj.pkl\n",
    "# add a function to the stack to execute arbitrary python\n",
    "GLOBAL    '__builtin__ eval'\n",
    "# mark the start of args tuple\n",
    "MARK\n",
    "    # add the python code that we want to execute\n",
    "    UNICODE    'print(Running malicious code)'\n",
    "    # wrap that code into a tuple so it can be parsed by REDUCE\n",
    "    TUPLE\n",
    "# call `eval()` with our python code as argument\n",
    "REDUCE\n",
    "STOP"
   ]
  },
  {
   "cell_type": "markdown",
   "id": "792f500c",
   "metadata": {},
   "source": [
    "Now to convert this into an actual pickle, we need to replace each opcode with its corresponding ASCII code: `c` for `GLOBAL`, `(` for `MARK`, `V` for `UNICODE`, `t` for `TUPLE`, `R` for `REDUCE`, and `.` for `STOP`."
   ]
  },
  {
   "cell_type": "code",
   "execution_count": 28,
   "id": "ff6b0db0",
   "metadata": {},
   "outputs": [
    {
     "name": "stdout",
     "output_type": "stream",
     "text": [
      "Overwriting pickleobj.pkl\n"
     ]
    }
   ],
   "source": [
    "%%writefile pickleobj.pkl\n",
    "c__builtin__\n",
    "eval\n",
    "(Vprint(\"Running malicious code\")\n",
    "tR."
   ]
  },
  {
   "cell_type": "code",
   "execution_count": 29,
   "id": "dea55536",
   "metadata": {},
   "outputs": [
    {
     "name": "stdout",
     "output_type": "stream",
     "text": [
      "Overwriting readpickle11.py\n"
     ]
    }
   ],
   "source": [
    "%%writefile readpickle11.py\n",
    "import pickle\n",
    "with open(\"pickleobj.pkl\", \"rb\") as f:\n",
    "    pickle.load(f)"
   ]
  },
  {
   "cell_type": "code",
   "execution_count": 30,
   "id": "e8daabbf",
   "metadata": {},
   "outputs": [
    {
     "name": "stdout",
     "output_type": "stream",
     "text": [
      "Running malicious code\r\n"
     ]
    }
   ],
   "source": [
    "!python readpickle11.py "
   ]
  },
  {
   "cell_type": "code",
   "execution_count": 31,
   "id": "e1e2652b",
   "metadata": {},
   "outputs": [
    {
     "name": "stdout",
     "output_type": "stream",
     "text": [
      "Overwriting readpickle12.py\n"
     ]
    }
   ],
   "source": [
    "%%writefile readpickle12.py\n",
    "import pickle\n",
    "pickle.loads(b'c__builtin__\\neval\\n(Vprint(\"Running malicious code\")\\ntR.')"
   ]
  },
  {
   "cell_type": "code",
   "execution_count": 32,
   "id": "53f1641c",
   "metadata": {},
   "outputs": [
    {
     "name": "stdout",
     "output_type": "stream",
     "text": [
      "Running malicious code\r\n"
     ]
    }
   ],
   "source": [
    "!python readpickle12.py"
   ]
  },
  {
   "cell_type": "markdown",
   "id": "dc0081fb",
   "metadata": {},
   "source": [
    "## Restricting Globals"
   ]
  },
  {
   "cell_type": "markdown",
   "id": "7eccf198",
   "metadata": {},
   "source": [
    "By default, unpickling will import any class or function that it finds in the pickle data. \n",
    "For this reason, you may want to control what gets unpickled by customizing `Unpickler.find_class()`. `Unpickler.find_class()` is called whenever a global (i.e., a class or a function) is requested. Thus it is possible to either completely forbid globals or restrict them to a safe subset."
   ]
  },
  {
   "cell_type": "code",
   "execution_count": 33,
   "id": "f104950a",
   "metadata": {},
   "outputs": [
    {
     "name": "stdout",
     "output_type": "stream",
     "text": [
      "Overwriting createpickle13.py\n"
     ]
    }
   ],
   "source": [
    "%%writefile createpickle13.py\n",
    "import builtins\n",
    "import io\n",
    "import pickle\n",
    "from pickle import UnpicklingError, Unpickler\n",
    "class SecureUnpickler(Unpickler):\n",
    "    unsafe_builtins = [\"eval\"]\n",
    "    safe_modules = [\"builtins\", \"os\"]\n",
    "    def find_class(self, module, name):\n",
    "        exception_ = UnpicklingError(f\"global {module}.{name} is forbidden\")\n",
    "        if module not in self.safe_modules:\n",
    "            raise exception_\n",
    "        if module == \"builtins\" and name in self.unsafe_builtins:\n",
    "            raise exception_\n",
    "        if module == \"os\" and name == \"system\":\n",
    "            raise exception_\n",
    "        return getattr(module, name)\n",
    "\n",
    "def secure_loads(s):\n",
    "    \"\"\"Helper function analogous to pickle.loads().\"\"\"\n",
    "    return SecureUnpickler(io.BytesIO(s)).load()\n",
    "\n",
    "if __name__ == \"__main__\":\n",
    "    try:\n",
    "        secure_loads(pickle.dumps(set([1, 2])))\n",
    "        print(\"successfully unpickled a set\")\n",
    "    except UnpicklingError as e:\n",
    "        print(e)\n",
    "    try:\n",
    "        secure_loads(b\"cos\\nsystem\\n(S'echo Malicious code'\\ntR.\")\n",
    "        print(\"successfully unpickled os.system command\")\n",
    "    except UnpicklingError as e:\n",
    "        print(e)\n",
    "    try:\n",
    "        import pandas as pd\n",
    "        secure_loads(pickle.dumps(pd.DataFrame([1, 2])))\n",
    "        print(\"scucessfult unpickled pandas dataframe\")\n",
    "    except UnpicklingError as e:\n",
    "        print(e)"
   ]
  },
  {
   "cell_type": "code",
   "execution_count": 34,
   "id": "dc50178e",
   "metadata": {},
   "outputs": [
    {
     "name": "stdout",
     "output_type": "stream",
     "text": [
      "successfully unpickled a set\n",
      "global os.system is forbidden\n",
      "global pandas.core.frame.DataFrame is forbidden\n"
     ]
    }
   ],
   "source": [
    "!python createpickle13.py"
   ]
  },
  {
   "cell_type": "markdown",
   "id": "71ce0c52",
   "metadata": {},
   "source": [
    "## Clean-up"
   ]
  },
  {
   "cell_type": "code",
   "execution_count": 35,
   "id": "39cebe30",
   "metadata": {},
   "outputs": [],
   "source": [
    "!rm *pickle*.py\n",
    "!rm *.pkl"
   ]
  },
  {
   "cell_type": "markdown",
   "id": "af79ef4c",
   "metadata": {},
   "source": [
    "## Further Reading:\n",
    "- `object.__getnewargs_ex__()`\n",
    "- `object.__getnewargs__()`\n",
    "- `object.__reduce__()`"
   ]
  },
  {
   "cell_type": "markdown",
   "id": "41c2a491",
   "metadata": {},
   "source": [
    "## References:\n",
    "- https://docs.python.org/3/library/pickle.html\n",
    "- https://intoli.com/blog/dangerous-pickles/"
   ]
  },
  {
   "cell_type": "code",
   "execution_count": null,
   "id": "1fb4eaa8",
   "metadata": {},
   "outputs": [],
   "source": []
  }
 ],
 "metadata": {
  "kernelspec": {
   "display_name": "Python 3 (ipykernel)",
   "language": "python",
   "name": "python3"
  },
  "language_info": {
   "codemirror_mode": {
    "name": "ipython",
    "version": 3
   },
   "file_extension": ".py",
   "mimetype": "text/x-python",
   "name": "python",
   "nbconvert_exporter": "python",
   "pygments_lexer": "ipython3",
   "version": "3.9.12"
  }
 },
 "nbformat": 4,
 "nbformat_minor": 5
}
